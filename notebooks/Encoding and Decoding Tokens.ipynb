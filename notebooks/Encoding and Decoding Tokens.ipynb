{
 "cells": [
  {
   "cell_type": "markdown",
   "metadata": {
    "collapsed": true
   },
   "source": [
    "# Demonstration of Encoding and Decoding Single Tokens\n",
    "\n",
    "This notebook does a simple walkthrough of the API in tmds for encoding and decoding tokens"
   ]
  },
  {
   "cell_type": "code",
   "execution_count": 1,
   "metadata": {
    "collapsed": true
   },
   "outputs": [],
   "source": [
    "import tmds"
   ]
  },
  {
   "cell_type": "code",
   "execution_count": 2,
   "metadata": {
    "collapsed": true
   },
   "outputs": [],
   "source": [
    "results = []\n",
    "for i in range(5):\n",
    "        encoded, op, encoding = tmds.basic_encode(i)\n",
    "        results.append((encoded, op, encoding))"
   ]
  },
  {
   "cell_type": "code",
   "execution_count": 3,
   "metadata": {},
   "outputs": [
    {
     "name": "stdout",
     "output_type": "stream",
     "text": [
      "((0, 0, 0, 0, 0, 0, 0, 0), ' XOR', 1)\n",
      "((1, 1, 1, 1, 1, 1, 1, 1), ' XOR', 1)\n",
      "((0, 1, 1, 1, 1, 1, 1, 1), ' XOR', 1)\n",
      "((1, 0, 0, 0, 0, 0, 0, 0), ' XOR', 1)\n",
      "((0, 0, 1, 1, 1, 1, 1, 1), ' XOR', 1)\n"
     ]
    }
   ],
   "source": [
    "print('\\n'.join([str(r) for r in results]))"
   ]
  },
  {
   "cell_type": "code",
   "execution_count": 4,
   "metadata": {},
   "outputs": [
    {
     "name": "stdout",
     "output_type": "stream",
     "text": [
      "[(0, 0, 0, 0, 0, 0, 0, 0, 1, 0)]\n",
      "[(0, 0, 0, 0, 0, 0, 0, 0, 1, 1), (1, 1, 1, 1, 1, 1, 1, 1, 1, 0)]\n",
      "[(1, 0, 0, 0, 0, 0, 0, 0, 1, 1), (0, 1, 1, 1, 1, 1, 1, 1, 1, 0)]\n",
      "[(1, 0, 0, 0, 0, 0, 0, 0, 1, 0)]\n",
      "[(0, 0, 1, 1, 1, 1, 1, 1, 1, 0), (1, 1, 0, 0, 0, 0, 0, 0, 1, 1)]\n"
     ]
    }
   ],
   "source": [
    "for i in range(5):\n",
    "    print(tmds.generate_encodings(i))"
   ]
  },
  {
   "cell_type": "code",
   "execution_count": 5,
   "metadata": {
    "collapsed": true
   },
   "outputs": [],
   "source": [
    "c_map, c_decode = tmds.generate_control_mappings()"
   ]
  },
  {
   "cell_type": "code",
   "execution_count": 6,
   "metadata": {},
   "outputs": [
    {
     "data": {
      "text/plain": [
       "{ControlTokens(c0=0, c1=0): (0, 0, 1, 0, 1, 0, 1, 0, 1, 1),\n",
       " ControlTokens(c0=0, c1=1): (0, 0, 1, 0, 1, 0, 1, 0, 1, 0),\n",
       " ControlTokens(c0=1, c1=0): (1, 1, 0, 1, 0, 1, 0, 1, 0, 0),\n",
       " ControlTokens(c0=1, c1=1): (1, 1, 0, 1, 0, 1, 0, 1, 0, 1)}"
      ]
     },
     "execution_count": 6,
     "metadata": {},
     "output_type": "execute_result"
    }
   ],
   "source": [
    "c_map"
   ]
  },
  {
   "cell_type": "code",
   "execution_count": 7,
   "metadata": {},
   "outputs": [
    {
     "data": {
      "text/plain": [
       "{(0, 0, 1, 0, 1, 0, 1, 0, 1, 0): ControlTokens(c0=0, c1=1),\n",
       " (0, 0, 1, 0, 1, 0, 1, 0, 1, 1): ControlTokens(c0=0, c1=0),\n",
       " (1, 1, 0, 1, 0, 1, 0, 1, 0, 0): ControlTokens(c0=1, c1=0),\n",
       " (1, 1, 0, 1, 0, 1, 0, 1, 0, 1): ControlTokens(c0=1, c1=1)}"
      ]
     },
     "execution_count": 7,
     "metadata": {},
     "output_type": "execute_result"
    }
   ],
   "source": [
    "c_decode"
   ]
  },
  {
   "cell_type": "code",
   "execution_count": 8,
   "metadata": {
    "collapsed": true
   },
   "outputs": [],
   "source": [
    "data_encode_map, data_decode_map = tmds.generate_data_mappings()"
   ]
  },
  {
   "cell_type": "code",
   "execution_count": 9,
   "metadata": {},
   "outputs": [
    {
     "data": {
      "text/plain": [
       "[((0, 0, 0, 0, 0, 0, 0, 0, 1, 0), 0),\n",
       " ((0, 0, 0, 0, 0, 0, 0, 0, 1, 1), 1),\n",
       " ((1, 1, 1, 1, 1, 1, 1, 1, 1, 0), 1),\n",
       " ((1, 0, 0, 0, 0, 0, 0, 0, 1, 1), 2),\n",
       " ((0, 1, 1, 1, 1, 1, 1, 1, 1, 0), 2)]"
      ]
     },
     "execution_count": 9,
     "metadata": {},
     "output_type": "execute_result"
    }
   ],
   "source": [
    "list(data_decode_map.items())[:5]"
   ]
  },
  {
   "cell_type": "code",
   "execution_count": 10,
   "metadata": {},
   "outputs": [
    {
     "data": {
      "text/plain": [
       "[(0, [(0, 0, 0, 0, 0, 0, 0, 0, 1, 0)]),\n",
       " (1, [(0, 0, 0, 0, 0, 0, 0, 0, 1, 1), (1, 1, 1, 1, 1, 1, 1, 1, 1, 0)]),\n",
       " (2, [(1, 0, 0, 0, 0, 0, 0, 0, 1, 1), (0, 1, 1, 1, 1, 1, 1, 1, 1, 0)]),\n",
       " (3, [(1, 0, 0, 0, 0, 0, 0, 0, 1, 0)]),\n",
       " (4, [(0, 0, 1, 1, 1, 1, 1, 1, 1, 0), (1, 1, 0, 0, 0, 0, 0, 0, 1, 1)])]"
      ]
     },
     "execution_count": 10,
     "metadata": {},
     "output_type": "execute_result"
    }
   ],
   "source": [
    "list(data_encode_map.items())[:5]"
   ]
  },
  {
   "cell_type": "code",
   "execution_count": 11,
   "metadata": {},
   "outputs": [
    {
     "data": {
      "text/plain": [
       "[(0, 0, 0, 0, 1, 1, 1, 1, 1, 0)]"
      ]
     },
     "execution_count": 11,
     "metadata": {},
     "output_type": "execute_result"
    }
   ],
   "source": [
    "data_encode_map[0x10]"
   ]
  },
  {
   "cell_type": "code",
   "execution_count": 12,
   "metadata": {},
   "outputs": [],
   "source": [
    "lengths = []\n",
    "for i in range(0, 255):\n",
    "    lengths.append(len(tmds.generate_encodings(i)))"
   ]
  },
  {
   "cell_type": "code",
   "execution_count": 13,
   "metadata": {},
   "outputs": [],
   "source": [
    "ones = lengths.count(1)\n",
    "twos = lengths.count(2)"
   ]
  },
  {
   "cell_type": "code",
   "execution_count": 14,
   "metadata": {},
   "outputs": [
    {
     "name": "stdout",
     "output_type": "stream",
     "text": [
      "154\n",
      "101\n"
     ]
    }
   ],
   "source": [
    "print(ones)\n",
    "print(twos)"
   ]
  },
  {
   "cell_type": "code",
   "execution_count": null,
   "metadata": {
    "collapsed": true
   },
   "outputs": [],
   "source": []
  }
 ],
 "metadata": {
  "kernelspec": {
   "display_name": "Python 3",
   "language": "python",
   "name": "python3"
  },
  "language_info": {
   "codemirror_mode": {
    "name": "ipython",
    "version": 3
   },
   "file_extension": ".py",
   "mimetype": "text/x-python",
   "name": "python",
   "nbconvert_exporter": "python",
   "pygments_lexer": "ipython3",
   "version": "3.6.1"
  }
 },
 "nbformat": 4,
 "nbformat_minor": 2
}
